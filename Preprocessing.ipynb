{
  "nbformat": 4,
  "nbformat_minor": 0,
  "metadata": {
    "colab": {
      "provenance": [],
      "authorship_tag": "ABX9TyPD/j7tBFcO7uny41yiHO/d",
      "include_colab_link": true
    },
    "kernelspec": {
      "name": "python3",
      "display_name": "Python 3"
    },
    "language_info": {
      "name": "python"
    }
  },
  "cells": [
    {
      "cell_type": "markdown",
      "metadata": {
        "id": "view-in-github",
        "colab_type": "text"
      },
      "source": [
        "<a href=\"https://colab.research.google.com/github/aliffianilhamf/PreprocessingData/blob/main/Preprocessing.ipynb\" target=\"_parent\"><img src=\"https://colab.research.google.com/assets/colab-badge.svg\" alt=\"Open In Colab\"/></a>"
      ]
    },
    {
      "cell_type": "code",
      "execution_count": 156,
      "metadata": {
        "id": "f-3qMN58uoMy"
      },
      "outputs": [],
      "source": [
        "import numpy as np\n",
        "import pandas as pd\n",
        "import matplotlib.pyplot as plt"
      ]
    },
    {
      "cell_type": "code",
      "source": [
        "data_set = pd.read_csv(\"preprocessing.csv\")\n",
        "x = data_set.iloc[:, 2:-1].values\n",
        "y = data_set.iloc[:,-1].values"
      ],
      "metadata": {
        "id": "okTlehXsu-30"
      },
      "execution_count": 157,
      "outputs": []
    },
    {
      "cell_type": "code",
      "source": [
        "print(x)"
      ],
      "metadata": {
        "id": "pf5bbK3lvSsA",
        "colab": {
          "base_uri": "https://localhost:8080/"
        },
        "outputId": "ef64947e-4820-4d79-e1c1-f8afa6948faa"
      },
      "execution_count": 158,
      "outputs": [
        {
          "output_type": "stream",
          "name": "stdout",
          "text": [
            "[['KLOTOK SERIES' 11000 11000.0]\n",
            " ['BOTOL' 5000 10000.0]\n",
            " ['MAKANAN' 14000 nan]\n",
            " ['MINUMAN' 18000 18000.0]\n",
            " ['KLOTOK SERIES' 8000 8000.0]\n",
            " ['MAKANAN' 14000 14000.0]\n",
            " ['TROPICAL SERIES' 15000 nan]\n",
            " ['MAKANAN' 15000 15000.0]\n",
            " ['MAKANAN' 14000 14000.0]\n",
            " ['TROPICAL SERIES' 15000 15000.0]\n",
            " ['KLOTOK SERIES' 11000 22000.0]\n",
            " ['BOTOL' 5000 5000.0]\n",
            " ['ROKOK' 23000 23000.0]\n",
            " ['KLOTOK SERIES' 11000 11000.0]\n",
            " ['TROPICAL SERIES' 12000 12000.0]\n",
            " ['SNACK' 2000 2000.0]\n",
            " ['BOTOL' 5000 5000.0]\n",
            " ['KLOTOK SERIES' 11000 11000.0]\n",
            " ['KLOTOK SERIES' 11000 11000.0]\n",
            " ['KLOTOK SERIES' 8000 8000.0]\n",
            " ['KLOTOK SERIES' 8000 nan]\n",
            " ['KLOTOK SERIES' 11000 11000.0]\n",
            " ['MAKANAN' 14000 14000.0]\n",
            " ['MINUMAN' 5000 5000.0]\n",
            " ['KLOTOK SERIES' 8000 8000.0]\n",
            " ['MAKANAN' 14000 28000.0]\n",
            " ['MINUMAN' 5000 10000.0]\n",
            " ['SNACK' 2000 2000.0]\n",
            " ['KLOTOK SERIES' 11000 22000.0]\n",
            " ['KLOTOK SERIES' 8000 8000.0]\n",
            " ['KLOTOK SERIES' 11000 11000.0]\n",
            " ['SNACK' 15000 15000.0]\n",
            " ['KLOTOK SERIES' 11000 11000.0]\n",
            " ['TROPICAL SERIES' 15000 15000.0]\n",
            " ['SNACK' 2000 4000.0]\n",
            " ['MINUMAN' 5000 5000.0]\n",
            " ['BOTOL' 5000 5000.0]\n",
            " ['KLOTOK SERIES' 8000 nan]\n",
            " ['MINUMAN' 12000 12000.0]\n",
            " ['BOTOL' 5000 5000.0]\n",
            " ['KLOTOK SERIES' 8000 8000.0]\n",
            " ['KLOTOK SERIES' 8000 16000.0]\n",
            " ['MINUMAN' 11000 11000.0]\n",
            " ['MINUMAN' 5000 10000.0]\n",
            " ['MAKANAN' 12000 12000.0]\n",
            " ['MAKANAN' 15000 15000.0]\n",
            " ['MINUMAN' 11000 11000.0]\n",
            " ['KLOTOK SERIES' 11000 nan]\n",
            " ['MINUMAN' 12000 12000.0]\n",
            " ['MINUMAN' 11000 11000.0]\n",
            " ['KLOTOK SERIES' 8000 24000.0]\n",
            " ['SNACK' 15000 15000.0]\n",
            " ['SNACK' 15000 15000.0]\n",
            " ['MINUMAN' 5000 10000.0]\n",
            " ['MAKANAN' 14000 28000.0]\n",
            " ['MINUMAN' 5000 nan]\n",
            " ['KLOTOK SERIES' 11000 11000.0]\n",
            " ['KLOTOK SERIES' 11000 11000.0]\n",
            " ['TROPICAL SERIES' 15000 15000.0]\n",
            " ['KLOTOK SERIES' 8000 8000.0]\n",
            " ['MINUMAN' 11000 11000.0]\n",
            " ['SNACK' 15000 15000.0]\n",
            " ['KLOTOK SERIES' 8000 8000.0]\n",
            " ['KLOTOK SERIES' 11000 11000.0]\n",
            " ['MINUMAN' 12000 12000.0]\n",
            " ['TROPICAL SERIES' 15000 15000.0]\n",
            " ['MAKANAN' 14000 14000.0]\n",
            " ['KLOTOK SERIES' 12000 12000.0]\n",
            " ['TROPICAL SERIES' 15000 15000.0]\n",
            " ['KLOTOK SERIES' 11000 11000.0]\n",
            " ['KLOTOK SERIES' 8000 16000.0]\n",
            " ['TROPICAL SERIES' 15000 15000.0]\n",
            " ['SNACK' 16000 16000.0]\n",
            " ['MINUMAN' 10000 10000.0]\n",
            " ['SNACK' 16000 nan]\n",
            " ['KLOTOK SERIES' 13000 13000.0]\n",
            " ['MINUMAN' 12000 12000.0]\n",
            " ['BOTOL' 5000 5000.0]\n",
            " ['MAKANAN' 15000 15000.0]\n",
            " ['KLOTOK SERIES' 11000 33000.0]\n",
            " ['TROPICAL SERIES' 15000 15000.0]\n",
            " ['MINUMAN' 5000 5000.0]\n",
            " ['MINUMAN' 18000 18000.0]\n",
            " ['KLOTOK SERIES' 12000 12000.0]\n",
            " ['KLOTOK SERIES' 11000 11000.0]\n",
            " ['KLOTOK SERIES' 8000 8000.0]\n",
            " ['MINUMAN' 11000 11000.0]\n",
            " ['SNACK' 16000 16000.0]\n",
            " ['MINUMAN' 18000 18000.0]\n",
            " ['TROPICAL SERIES' 15000 15000.0]\n",
            " ['KLOTOK SERIES' 11000 44000.0]\n",
            " ['MINUMAN' 18000 18000.0]\n",
            " ['SNACK' 15000 30000.0]\n",
            " ['SNACK' 15000 15000.0]\n",
            " ['SNACK' 16000 nan]\n",
            " ['KLOTOK SERIES' 11000 44000.0]\n",
            " ['TROPICAL SERIES' 15000 15000.0]\n",
            " ['MINUMAN' 12000 12000.0]\n",
            " ['KLOTOK SERIES' 11000 11000.0]\n",
            " ['MINUMAN' 5000 30000.0]\n",
            " ['KLOTOK SERIES' 8000 8000.0]\n",
            " ['KLOTOK SERIES' 11000 11000.0]\n",
            " ['BOTOL' 5000 10000.0]\n",
            " ['SNACK' 16000 16000.0]\n",
            " ['MAKANAN' 14000 nan]\n",
            " ['MINUMAN' 5000 5000.0]\n",
            " ['MINUMAN' 11000 11000.0]\n",
            " ['MINUMAN' 12000 12000.0]\n",
            " ['SNACK' 16000 16000.0]\n",
            " ['SNACK' 2000 2000.0]\n",
            " ['MINUMAN' 12000 12000.0]\n",
            " ['MINUMAN' 11000 11000.0]\n",
            " ['KLOTOK SERIES' 8000 8000.0]\n",
            " ['SNACK' 15000 15000.0]\n",
            " ['KLOTOK SERIES' 11000 nan]\n",
            " ['MAKANAN' 14000 14000.0]\n",
            " ['BOTOL' 5000 5000.0]\n",
            " ['SNACK' 2000 2000.0]\n",
            " ['KLOTOK SERIES' 11000 11000.0]\n",
            " ['KLOTOK SERIES' 11000 11000.0]\n",
            " ['MAKANAN' 14000 14000.0]\n",
            " ['MINUMAN' 10000 10000.0]\n",
            " ['KLOTOK SERIES' 8000 16000.0]\n",
            " ['MAKANAN' 14000 14000.0]\n",
            " ['BOTOL' 5000 5000.0]\n",
            " ['KLOTOK SERIES' 11000 11000.0]\n",
            " ['KLOTOK SERIES' 11000 11000.0]\n",
            " ['SNACK' 16000 16000.0]\n",
            " ['SNACK' 16000 16000.0]\n",
            " ['MAKANAN' 16000 16000.0]\n",
            " ['SNACK' 16000 16000.0]\n",
            " ['MINUMAN' 10000 10000.0]\n",
            " ['KLOTOK SERIES' 8000 8000.0]\n",
            " ['MINUMAN' 11000 11000.0]\n",
            " ['TROPICAL SERIES' 15000 15000.0]\n",
            " ['SNACK' 2000 4000.0]\n",
            " ['MINUMAN' 10000 10000.0]\n",
            " ['TROPICAL SERIES' 15000 15000.0]\n",
            " ['KLOTOK SERIES' 11000 11000.0]\n",
            " ['KLOTOK SERIES' 11000 22000.0]\n",
            " ['KLOTOK SERIES' 11000 11000.0]\n",
            " ['BOTOL' 5000 5000.0]\n",
            " ['KLOTOK SERIES' 11000 11000.0]\n",
            " ['KLOTOK SERIES' 8000 8000.0]\n",
            " ['BOTOL' 5000 5000.0]\n",
            " ['MAKANAN' 12000 24000.0]\n",
            " ['SNACK' 16000 16000.0]\n",
            " ['MAKANAN' 16000 16000.0]\n",
            " ['MINUMAN' 5000 20000.0]\n",
            " ['MINUMAN' 11000 11000.0]\n",
            " ['MAKANAN' 14000 42000.0]\n",
            " ['KLOTOK SERIES' 11000 11000.0]\n",
            " ['KLOTOK SERIES' 8000 8000.0]\n",
            " ['SNACK' 15000 15000.0]\n",
            " ['MINUMAN' 10000 10000.0]\n",
            " ['MINUMAN' 10000 10000.0]\n",
            " ['SNACK' 2000 6000.0]\n",
            " ['MINUMAN' 10000 10000.0]\n",
            " ['KLOTOK SERIES' 11000 11000.0]\n",
            " ['SNACK' 2000 4000.0]\n",
            " ['MINUMAN' 12000 12000.0]\n",
            " ['KLOTOK SERIES' 11000 11000.0]\n",
            " ['PEMBUNGKUS' 1000 1000.0]\n",
            " ['PEMBUNGKUS' 1500 1500.0]\n",
            " ['KLOTOK SERIES' 11000 11000.0]\n",
            " ['MINUMAN' 11000 33000.0]\n",
            " ['TROPICAL SERIES' 12000 12000.0]\n",
            " ['BOTOL' 5000 5000.0]\n",
            " ['KLOTOK SERIES' 11000 11000.0]\n",
            " ['KLOTOK SERIES' 11000 nan]\n",
            " ['MAKANAN' 15000 15000.0]\n",
            " ['SNACK' 16000 16000.0]\n",
            " ['KLOTOK SERIES' 8000 8000.0]\n",
            " ['MINUMAN' 5000 10000.0]\n",
            " ['MAKANAN' 12000 12000.0]\n",
            " ['MINUMAN' 5000 10000.0]\n",
            " ['SNACK' 16000 16000.0]\n",
            " ['MAKANAN' 16000 16000.0]\n",
            " ['TROPICAL SERIES' 15000 15000.0]\n",
            " ['BOTOL' 5000 10000.0]\n",
            " ['SNACK' 15000 15000.0]\n",
            " ['KLOTOK SERIES' 11000 11000.0]\n",
            " ['TROPICAL SERIES' 12000 12000.0]\n",
            " ['KLOTOK SERIES' 11000 11000.0]\n",
            " ['TROPICAL SERIES' 15000 15000.0]\n",
            " ['TROPICAL SERIES' 12000 12000.0]\n",
            " ['KLOTOK SERIES' 11000 22000.0]\n",
            " ['SNACK' 16000 16000.0]\n",
            " ['SNACK' 2000 2000.0]\n",
            " ['KLOTOK SERIES' 11000 11000.0]\n",
            " ['MINUMAN' 18000 18000.0]\n",
            " ['PEMBUNGKUS' 1000 1000.0]\n",
            " ['KLOTOK SERIES' 8000 24000.0]\n",
            " ['KLOTOK SERIES' 11000 44000.0]\n",
            " ['TROPICAL SERIES' 15000 15000.0]\n",
            " ['TROPICAL SERIES' 15000 15000.0]\n",
            " ['KLOTOK SERIES' 11000 11000.0]\n",
            " ['TROPICAL SERIES' 15000 15000.0]\n",
            " ['MAKANAN' 14000 14000.0]]\n"
          ]
        }
      ]
    },
    {
      "cell_type": "code",
      "source": [
        "print(y)"
      ],
      "metadata": {
        "colab": {
          "base_uri": "https://localhost:8080/"
        },
        "id": "xkR_6x_Tzoly",
        "outputId": "9e672bf7-888c-414c-8ad1-316a6dd740e4"
      },
      "execution_count": 159,
      "outputs": [
        {
          "output_type": "stream",
          "name": "stdout",
          "text": [
            "['CASH' 'CASH' 'CASH' 'CASH' 'CASH' 'RETURN' 'CASH' 'CASH' 'CASH' 'CASH'\n",
            " 'CASH' 'CASH' 'CASH' 'CASH' 'CASH' 'CASH' 'CASH' 'CASH' 'CASH' 'CASH'\n",
            " 'CASH' 'CASH' 'CASH' 'RETURN' 'CASH' 'CASH' 'CASH' 'CASH' 'CASH' 'CASH'\n",
            " 'CASH' 'CASH' 'CASH' 'CASH' 'CASH' 'CASH' 'CASH' 'CASH' 'CASH' 'CASH'\n",
            " 'CASH' 'CASH' 'CASH' 'CASH' 'CASH' 'CASH' 'CASH' 'CASH' 'CASH' 'CASH'\n",
            " 'CASH' 'CASH' 'CASH' 'CASH' 'CASH' 'CASH' 'CASH' 'CASH' 'CASH' 'CASH'\n",
            " 'CASH' 'CASH' 'CASH' 'CASH' 'CASH' 'CASH' 'RETURN' 'CASH' 'CASH' 'CASH'\n",
            " 'CASH' 'CASH' 'CASH' 'CASH' 'CASH' 'CASH' 'CASH' 'CASH' 'CASH' 'CASH'\n",
            " 'CASH' 'CASH' 'CASH' 'CASH' 'RETURN' 'CASH' 'CASH' 'CASH' 'CASH' 'CASH'\n",
            " 'CASH' 'CASH' 'CASH' 'CASH' 'CASH' 'CASH' 'CASH' 'CASH' 'CASH' 'CASH'\n",
            " 'CASH' 'CASH' 'CASH' 'CASH' 'CASH' 'CASH' 'CASH' 'CASH' 'CASH' 'CASH'\n",
            " 'CASH' 'CASH' 'CASH' 'CASH' 'CASH' 'CASH' 'CASH' 'CASH' 'CASH' 'CASH'\n",
            " 'CASH' 'CASH' 'CASH' 'CASH' 'CASH' 'CASH' 'CASH' 'CASH' 'CASH' 'CASH'\n",
            " 'CASH' 'CASH' 'CASH' 'CASH' 'CASH' 'CASH' 'CASH' 'CASH' 'CASH' 'CASH'\n",
            " 'CASH' 'CASH' 'CASH' 'CASH' 'CASH' 'CASH' 'CASH' 'CASH' 'CASH' 'CASH'\n",
            " 'CASH' 'CASH' 'CASH' 'CASH' 'CASH' 'CASH' 'CASH' 'CASH' 'CASH' 'CASH'\n",
            " 'CASH' 'CASH' 'CASH' 'CASH' 'CASH' 'CASH' 'CASH' 'CASH' 'CASH' 'CASH'\n",
            " 'CASH' 'CASH' 'CASH' 'CASH' 'CASH' 'CASH' 'CASH' 'CASH' 'CASH' 'CASH'\n",
            " 'CASH' 'CASH' 'CASH' 'CASH' 'CASH' 'CASH' 'CASH' 'CASH' 'CASH' 'CASH'\n",
            " 'CASH' 'CASH' 'CASH' 'CASH' 'CASH' 'CASH' 'CASH' 'CASH' 'CASH']\n"
          ]
        }
      ]
    },
    {
      "cell_type": "code",
      "source": [
        "from sklearn.impute import SimpleImputer\n",
        "imputer = SimpleImputer(missing_values = np.nan, strategy = 'mean')\n",
        "imputer.fit(x[:, 1:4])\n",
        "x[:, 1:4] = imputer.transform(x[:, 1:4])"
      ],
      "metadata": {
        "id": "ZqKTD3R_0UX0"
      },
      "execution_count": 160,
      "outputs": []
    },
    {
      "cell_type": "code",
      "source": [
        "print(x)"
      ],
      "metadata": {
        "colab": {
          "base_uri": "https://localhost:8080/"
        },
        "id": "vBuzvLBt1pis",
        "outputId": "f16bac0c-43c5-42b7-ba7e-2edd7bb5a849"
      },
      "execution_count": 161,
      "outputs": [
        {
          "output_type": "stream",
          "name": "stdout",
          "text": [
            "[['KLOTOK SERIES' 11000.0 11000.0]\n",
            " ['BOTOL' 5000.0 10000.0]\n",
            " ['MAKANAN' 14000.0 13034.574468085106]\n",
            " ['MINUMAN' 18000.0 18000.0]\n",
            " ['KLOTOK SERIES' 8000.0 8000.0]\n",
            " ['MAKANAN' 14000.0 14000.0]\n",
            " ['TROPICAL SERIES' 15000.0 13034.574468085106]\n",
            " ['MAKANAN' 15000.0 15000.0]\n",
            " ['MAKANAN' 14000.0 14000.0]\n",
            " ['TROPICAL SERIES' 15000.0 15000.0]\n",
            " ['KLOTOK SERIES' 11000.0 22000.0]\n",
            " ['BOTOL' 5000.0 5000.0]\n",
            " ['ROKOK' 23000.0 23000.0]\n",
            " ['KLOTOK SERIES' 11000.0 11000.0]\n",
            " ['TROPICAL SERIES' 12000.0 12000.0]\n",
            " ['SNACK' 2000.0 2000.0]\n",
            " ['BOTOL' 5000.0 5000.0]\n",
            " ['KLOTOK SERIES' 11000.0 11000.0]\n",
            " ['KLOTOK SERIES' 11000.0 11000.0]\n",
            " ['KLOTOK SERIES' 8000.0 8000.0]\n",
            " ['KLOTOK SERIES' 8000.0 13034.574468085106]\n",
            " ['KLOTOK SERIES' 11000.0 11000.0]\n",
            " ['MAKANAN' 14000.0 14000.0]\n",
            " ['MINUMAN' 5000.0 5000.0]\n",
            " ['KLOTOK SERIES' 8000.0 8000.0]\n",
            " ['MAKANAN' 14000.0 28000.0]\n",
            " ['MINUMAN' 5000.0 10000.0]\n",
            " ['SNACK' 2000.0 2000.0]\n",
            " ['KLOTOK SERIES' 11000.0 22000.0]\n",
            " ['KLOTOK SERIES' 8000.0 8000.0]\n",
            " ['KLOTOK SERIES' 11000.0 11000.0]\n",
            " ['SNACK' 15000.0 15000.0]\n",
            " ['KLOTOK SERIES' 11000.0 11000.0]\n",
            " ['TROPICAL SERIES' 15000.0 15000.0]\n",
            " ['SNACK' 2000.0 4000.0]\n",
            " ['MINUMAN' 5000.0 5000.0]\n",
            " ['BOTOL' 5000.0 5000.0]\n",
            " ['KLOTOK SERIES' 8000.0 13034.574468085106]\n",
            " ['MINUMAN' 12000.0 12000.0]\n",
            " ['BOTOL' 5000.0 5000.0]\n",
            " ['KLOTOK SERIES' 8000.0 8000.0]\n",
            " ['KLOTOK SERIES' 8000.0 16000.0]\n",
            " ['MINUMAN' 11000.0 11000.0]\n",
            " ['MINUMAN' 5000.0 10000.0]\n",
            " ['MAKANAN' 12000.0 12000.0]\n",
            " ['MAKANAN' 15000.0 15000.0]\n",
            " ['MINUMAN' 11000.0 11000.0]\n",
            " ['KLOTOK SERIES' 11000.0 13034.574468085106]\n",
            " ['MINUMAN' 12000.0 12000.0]\n",
            " ['MINUMAN' 11000.0 11000.0]\n",
            " ['KLOTOK SERIES' 8000.0 24000.0]\n",
            " ['SNACK' 15000.0 15000.0]\n",
            " ['SNACK' 15000.0 15000.0]\n",
            " ['MINUMAN' 5000.0 10000.0]\n",
            " ['MAKANAN' 14000.0 28000.0]\n",
            " ['MINUMAN' 5000.0 13034.574468085106]\n",
            " ['KLOTOK SERIES' 11000.0 11000.0]\n",
            " ['KLOTOK SERIES' 11000.0 11000.0]\n",
            " ['TROPICAL SERIES' 15000.0 15000.0]\n",
            " ['KLOTOK SERIES' 8000.0 8000.0]\n",
            " ['MINUMAN' 11000.0 11000.0]\n",
            " ['SNACK' 15000.0 15000.0]\n",
            " ['KLOTOK SERIES' 8000.0 8000.0]\n",
            " ['KLOTOK SERIES' 11000.0 11000.0]\n",
            " ['MINUMAN' 12000.0 12000.0]\n",
            " ['TROPICAL SERIES' 15000.0 15000.0]\n",
            " ['MAKANAN' 14000.0 14000.0]\n",
            " ['KLOTOK SERIES' 12000.0 12000.0]\n",
            " ['TROPICAL SERIES' 15000.0 15000.0]\n",
            " ['KLOTOK SERIES' 11000.0 11000.0]\n",
            " ['KLOTOK SERIES' 8000.0 16000.0]\n",
            " ['TROPICAL SERIES' 15000.0 15000.0]\n",
            " ['SNACK' 16000.0 16000.0]\n",
            " ['MINUMAN' 10000.0 10000.0]\n",
            " ['SNACK' 16000.0 13034.574468085106]\n",
            " ['KLOTOK SERIES' 13000.0 13000.0]\n",
            " ['MINUMAN' 12000.0 12000.0]\n",
            " ['BOTOL' 5000.0 5000.0]\n",
            " ['MAKANAN' 15000.0 15000.0]\n",
            " ['KLOTOK SERIES' 11000.0 33000.0]\n",
            " ['TROPICAL SERIES' 15000.0 15000.0]\n",
            " ['MINUMAN' 5000.0 5000.0]\n",
            " ['MINUMAN' 18000.0 18000.0]\n",
            " ['KLOTOK SERIES' 12000.0 12000.0]\n",
            " ['KLOTOK SERIES' 11000.0 11000.0]\n",
            " ['KLOTOK SERIES' 8000.0 8000.0]\n",
            " ['MINUMAN' 11000.0 11000.0]\n",
            " ['SNACK' 16000.0 16000.0]\n",
            " ['MINUMAN' 18000.0 18000.0]\n",
            " ['TROPICAL SERIES' 15000.0 15000.0]\n",
            " ['KLOTOK SERIES' 11000.0 44000.0]\n",
            " ['MINUMAN' 18000.0 18000.0]\n",
            " ['SNACK' 15000.0 30000.0]\n",
            " ['SNACK' 15000.0 15000.0]\n",
            " ['SNACK' 16000.0 13034.574468085106]\n",
            " ['KLOTOK SERIES' 11000.0 44000.0]\n",
            " ['TROPICAL SERIES' 15000.0 15000.0]\n",
            " ['MINUMAN' 12000.0 12000.0]\n",
            " ['KLOTOK SERIES' 11000.0 11000.0]\n",
            " ['MINUMAN' 5000.0 30000.0]\n",
            " ['KLOTOK SERIES' 8000.0 8000.0]\n",
            " ['KLOTOK SERIES' 11000.0 11000.0]\n",
            " ['BOTOL' 5000.0 10000.0]\n",
            " ['SNACK' 16000.0 16000.0]\n",
            " ['MAKANAN' 14000.0 13034.574468085106]\n",
            " ['MINUMAN' 5000.0 5000.0]\n",
            " ['MINUMAN' 11000.0 11000.0]\n",
            " ['MINUMAN' 12000.0 12000.0]\n",
            " ['SNACK' 16000.0 16000.0]\n",
            " ['SNACK' 2000.0 2000.0]\n",
            " ['MINUMAN' 12000.0 12000.0]\n",
            " ['MINUMAN' 11000.0 11000.0]\n",
            " ['KLOTOK SERIES' 8000.0 8000.0]\n",
            " ['SNACK' 15000.0 15000.0]\n",
            " ['KLOTOK SERIES' 11000.0 13034.574468085106]\n",
            " ['MAKANAN' 14000.0 14000.0]\n",
            " ['BOTOL' 5000.0 5000.0]\n",
            " ['SNACK' 2000.0 2000.0]\n",
            " ['KLOTOK SERIES' 11000.0 11000.0]\n",
            " ['KLOTOK SERIES' 11000.0 11000.0]\n",
            " ['MAKANAN' 14000.0 14000.0]\n",
            " ['MINUMAN' 10000.0 10000.0]\n",
            " ['KLOTOK SERIES' 8000.0 16000.0]\n",
            " ['MAKANAN' 14000.0 14000.0]\n",
            " ['BOTOL' 5000.0 5000.0]\n",
            " ['KLOTOK SERIES' 11000.0 11000.0]\n",
            " ['KLOTOK SERIES' 11000.0 11000.0]\n",
            " ['SNACK' 16000.0 16000.0]\n",
            " ['SNACK' 16000.0 16000.0]\n",
            " ['MAKANAN' 16000.0 16000.0]\n",
            " ['SNACK' 16000.0 16000.0]\n",
            " ['MINUMAN' 10000.0 10000.0]\n",
            " ['KLOTOK SERIES' 8000.0 8000.0]\n",
            " ['MINUMAN' 11000.0 11000.0]\n",
            " ['TROPICAL SERIES' 15000.0 15000.0]\n",
            " ['SNACK' 2000.0 4000.0]\n",
            " ['MINUMAN' 10000.0 10000.0]\n",
            " ['TROPICAL SERIES' 15000.0 15000.0]\n",
            " ['KLOTOK SERIES' 11000.0 11000.0]\n",
            " ['KLOTOK SERIES' 11000.0 22000.0]\n",
            " ['KLOTOK SERIES' 11000.0 11000.0]\n",
            " ['BOTOL' 5000.0 5000.0]\n",
            " ['KLOTOK SERIES' 11000.0 11000.0]\n",
            " ['KLOTOK SERIES' 8000.0 8000.0]\n",
            " ['BOTOL' 5000.0 5000.0]\n",
            " ['MAKANAN' 12000.0 24000.0]\n",
            " ['SNACK' 16000.0 16000.0]\n",
            " ['MAKANAN' 16000.0 16000.0]\n",
            " ['MINUMAN' 5000.0 20000.0]\n",
            " ['MINUMAN' 11000.0 11000.0]\n",
            " ['MAKANAN' 14000.0 42000.0]\n",
            " ['KLOTOK SERIES' 11000.0 11000.0]\n",
            " ['KLOTOK SERIES' 8000.0 8000.0]\n",
            " ['SNACK' 15000.0 15000.0]\n",
            " ['MINUMAN' 10000.0 10000.0]\n",
            " ['MINUMAN' 10000.0 10000.0]\n",
            " ['SNACK' 2000.0 6000.0]\n",
            " ['MINUMAN' 10000.0 10000.0]\n",
            " ['KLOTOK SERIES' 11000.0 11000.0]\n",
            " ['SNACK' 2000.0 4000.0]\n",
            " ['MINUMAN' 12000.0 12000.0]\n",
            " ['KLOTOK SERIES' 11000.0 11000.0]\n",
            " ['PEMBUNGKUS' 1000.0 1000.0]\n",
            " ['PEMBUNGKUS' 1500.0 1500.0]\n",
            " ['KLOTOK SERIES' 11000.0 11000.0]\n",
            " ['MINUMAN' 11000.0 33000.0]\n",
            " ['TROPICAL SERIES' 12000.0 12000.0]\n",
            " ['BOTOL' 5000.0 5000.0]\n",
            " ['KLOTOK SERIES' 11000.0 11000.0]\n",
            " ['KLOTOK SERIES' 11000.0 13034.574468085106]\n",
            " ['MAKANAN' 15000.0 15000.0]\n",
            " ['SNACK' 16000.0 16000.0]\n",
            " ['KLOTOK SERIES' 8000.0 8000.0]\n",
            " ['MINUMAN' 5000.0 10000.0]\n",
            " ['MAKANAN' 12000.0 12000.0]\n",
            " ['MINUMAN' 5000.0 10000.0]\n",
            " ['SNACK' 16000.0 16000.0]\n",
            " ['MAKANAN' 16000.0 16000.0]\n",
            " ['TROPICAL SERIES' 15000.0 15000.0]\n",
            " ['BOTOL' 5000.0 10000.0]\n",
            " ['SNACK' 15000.0 15000.0]\n",
            " ['KLOTOK SERIES' 11000.0 11000.0]\n",
            " ['TROPICAL SERIES' 12000.0 12000.0]\n",
            " ['KLOTOK SERIES' 11000.0 11000.0]\n",
            " ['TROPICAL SERIES' 15000.0 15000.0]\n",
            " ['TROPICAL SERIES' 12000.0 12000.0]\n",
            " ['KLOTOK SERIES' 11000.0 22000.0]\n",
            " ['SNACK' 16000.0 16000.0]\n",
            " ['SNACK' 2000.0 2000.0]\n",
            " ['KLOTOK SERIES' 11000.0 11000.0]\n",
            " ['MINUMAN' 18000.0 18000.0]\n",
            " ['PEMBUNGKUS' 1000.0 1000.0]\n",
            " ['KLOTOK SERIES' 8000.0 24000.0]\n",
            " ['KLOTOK SERIES' 11000.0 44000.0]\n",
            " ['TROPICAL SERIES' 15000.0 15000.0]\n",
            " ['TROPICAL SERIES' 15000.0 15000.0]\n",
            " ['KLOTOK SERIES' 11000.0 11000.0]\n",
            " ['TROPICAL SERIES' 15000.0 15000.0]\n",
            " ['MAKANAN' 14000.0 14000.0]]\n"
          ]
        }
      ]
    },
    {
      "cell_type": "code",
      "source": [
        "from sklearn.compose import ColumnTransformer\n",
        "from sklearn.preprocessing import OneHotEncoder\n",
        "# Encoding data kategori (Atribut)\n",
        "ct = ColumnTransformer(transformers=[('encoder', OneHotEncoder(), [0])], remainder='passthrough')\n",
        "x = np.array(ct.fit_transform(x))\n"
      ],
      "metadata": {
        "id": "wGLMBckP3el_"
      },
      "execution_count": 162,
      "outputs": []
    },
    {
      "cell_type": "code",
      "source": [
        "print(x)"
      ],
      "metadata": {
        "colab": {
          "base_uri": "https://localhost:8080/"
        },
        "id": "KKc6trc94lp8",
        "outputId": "67088393-9553-4826-d471-10a18a0e1036"
      },
      "execution_count": 163,
      "outputs": [
        {
          "output_type": "stream",
          "name": "stdout",
          "text": [
            "[[0.0 1.0 0.0 ... 0.0 11000.0 11000.0]\n",
            " [1.0 0.0 0.0 ... 0.0 5000.0 10000.0]\n",
            " [0.0 0.0 1.0 ... 0.0 14000.0 13034.574468085106]\n",
            " ...\n",
            " [0.0 1.0 0.0 ... 0.0 11000.0 11000.0]\n",
            " [0.0 0.0 0.0 ... 1.0 15000.0 15000.0]\n",
            " [0.0 0.0 1.0 ... 0.0 14000.0 14000.0]]\n"
          ]
        }
      ]
    },
    {
      "cell_type": "code",
      "source": [
        "from sklearn.preprocessing import LabelEncoder\n",
        "le = LabelEncoder()\n",
        "y = le.fit_transform(y)"
      ],
      "metadata": {
        "id": "RuVb4VYwE1S9"
      },
      "execution_count": 164,
      "outputs": []
    },
    {
      "cell_type": "code",
      "source": [
        "print(y)"
      ],
      "metadata": {
        "colab": {
          "base_uri": "https://localhost:8080/"
        },
        "id": "DDhf36-EE88f",
        "outputId": "f61fd9d6-872e-4ab7-d1f6-9af010155739"
      },
      "execution_count": 165,
      "outputs": [
        {
          "output_type": "stream",
          "name": "stdout",
          "text": [
            "[0 0 0 0 0 1 0 0 0 0 0 0 0 0 0 0 0 0 0 0 0 0 0 1 0 0 0 0 0 0 0 0 0 0 0 0 0\n",
            " 0 0 0 0 0 0 0 0 0 0 0 0 0 0 0 0 0 0 0 0 0 0 0 0 0 0 0 0 0 1 0 0 0 0 0 0 0\n",
            " 0 0 0 0 0 0 0 0 0 0 1 0 0 0 0 0 0 0 0 0 0 0 0 0 0 0 0 0 0 0 0 0 0 0 0 0 0\n",
            " 0 0 0 0 0 0 0 0 0 0 0 0 0 0 0 0 0 0 0 0 0 0 0 0 0 0 0 0 0 0 0 0 0 0 0 0 0\n",
            " 0 0 0 0 0 0 0 0 0 0 0 0 0 0 0 0 0 0 0 0 0 0 0 0 0 0 0 0 0 0 0 0 0 0 0 0 0\n",
            " 0 0 0 0 0 0 0 0 0 0 0 0 0 0]\n"
          ]
        }
      ]
    },
    {
      "cell_type": "code",
      "source": [
        "from sklearn.model_selection import train_test_split\n",
        "x_train, x_test, y_train, y_test = train_test_split(x, y, test_size=0.2, random_state=1)"
      ],
      "metadata": {
        "id": "5IuAQGBZGeeh"
      },
      "execution_count": 166,
      "outputs": []
    },
    {
      "cell_type": "code",
      "source": [
        "print(x_train)"
      ],
      "metadata": {
        "colab": {
          "base_uri": "https://localhost:8080/"
        },
        "id": "V1DVhFtAJb8F",
        "outputId": "183de0dc-8124-458b-f628-7813bc8efb68"
      },
      "execution_count": 167,
      "outputs": [
        {
          "output_type": "stream",
          "name": "stdout",
          "text": [
            "[[0.0 0.0 0.0 ... 0.0 12000.0 12000.0]\n",
            " [0.0 0.0 0.0 ... 0.0 11000.0 11000.0]\n",
            " [0.0 1.0 0.0 ... 0.0 11000.0 11000.0]\n",
            " ...\n",
            " [0.0 0.0 0.0 ... 0.0 16000.0 16000.0]\n",
            " [0.0 1.0 0.0 ... 0.0 11000.0 11000.0]\n",
            " [0.0 1.0 0.0 ... 0.0 8000.0 13034.574468085106]]\n"
          ]
        }
      ]
    },
    {
      "cell_type": "code",
      "source": [
        "print(x_test)"
      ],
      "metadata": {
        "colab": {
          "base_uri": "https://localhost:8080/"
        },
        "id": "FeZe0zDvJsnH",
        "outputId": "13f2f1aa-8aba-4f6d-e0ab-d1f9cd28d983"
      },
      "execution_count": 168,
      "outputs": [
        {
          "output_type": "stream",
          "name": "stdout",
          "text": [
            "[[0.0 0.0 0.0 1.0 0.0 0.0 0.0 0.0 5000.0 10000.0]\n",
            " [0.0 1.0 0.0 0.0 0.0 0.0 0.0 0.0 8000.0 8000.0]\n",
            " [0.0 0.0 0.0 0.0 0.0 0.0 1.0 0.0 2000.0 4000.0]\n",
            " [0.0 1.0 0.0 0.0 0.0 0.0 0.0 0.0 11000.0 44000.0]\n",
            " [0.0 0.0 1.0 0.0 0.0 0.0 0.0 0.0 12000.0 24000.0]\n",
            " [0.0 0.0 0.0 0.0 0.0 0.0 0.0 1.0 12000.0 12000.0]\n",
            " [0.0 1.0 0.0 0.0 0.0 0.0 0.0 0.0 11000.0 44000.0]\n",
            " [0.0 1.0 0.0 0.0 0.0 0.0 0.0 0.0 8000.0 8000.0]\n",
            " [0.0 1.0 0.0 0.0 0.0 0.0 0.0 0.0 8000.0 8000.0]\n",
            " [1.0 0.0 0.0 0.0 0.0 0.0 0.0 0.0 5000.0 5000.0]\n",
            " [0.0 0.0 0.0 1.0 0.0 0.0 0.0 0.0 5000.0 10000.0]\n",
            " [0.0 1.0 0.0 0.0 0.0 0.0 0.0 0.0 11000.0 11000.0]\n",
            " [1.0 0.0 0.0 0.0 0.0 0.0 0.0 0.0 5000.0 5000.0]\n",
            " [0.0 1.0 0.0 0.0 0.0 0.0 0.0 0.0 11000.0 11000.0]\n",
            " [0.0 0.0 1.0 0.0 0.0 0.0 0.0 0.0 16000.0 16000.0]\n",
            " [0.0 0.0 0.0 0.0 0.0 0.0 1.0 0.0 2000.0 2000.0]\n",
            " [0.0 0.0 0.0 1.0 0.0 0.0 0.0 0.0 5000.0 5000.0]\n",
            " [0.0 0.0 0.0 1.0 0.0 0.0 0.0 0.0 5000.0 5000.0]\n",
            " [0.0 0.0 0.0 1.0 0.0 0.0 0.0 0.0 12000.0 12000.0]\n",
            " [0.0 0.0 0.0 0.0 0.0 0.0 0.0 1.0 15000.0 15000.0]\n",
            " [0.0 0.0 0.0 0.0 0.0 0.0 1.0 0.0 15000.0 15000.0]\n",
            " [1.0 0.0 0.0 0.0 0.0 0.0 0.0 0.0 5000.0 5000.0]\n",
            " [0.0 0.0 1.0 0.0 0.0 0.0 0.0 0.0 12000.0 12000.0]\n",
            " [0.0 0.0 0.0 0.0 0.0 0.0 1.0 0.0 15000.0 15000.0]\n",
            " [0.0 0.0 0.0 0.0 0.0 0.0 1.0 0.0 15000.0 15000.0]\n",
            " [0.0 0.0 0.0 0.0 0.0 0.0 0.0 1.0 15000.0 15000.0]\n",
            " [0.0 0.0 0.0 1.0 0.0 0.0 0.0 0.0 12000.0 12000.0]\n",
            " [0.0 1.0 0.0 0.0 0.0 0.0 0.0 0.0 11000.0 22000.0]\n",
            " [0.0 0.0 0.0 0.0 0.0 0.0 1.0 0.0 16000.0 16000.0]\n",
            " [0.0 0.0 0.0 0.0 0.0 0.0 1.0 0.0 2000.0 2000.0]\n",
            " [0.0 1.0 0.0 0.0 0.0 0.0 0.0 0.0 11000.0 13034.574468085106]\n",
            " [0.0 1.0 0.0 0.0 0.0 0.0 0.0 0.0 11000.0 11000.0]\n",
            " [0.0 1.0 0.0 0.0 0.0 0.0 0.0 0.0 8000.0 8000.0]\n",
            " [0.0 1.0 0.0 0.0 0.0 0.0 0.0 0.0 8000.0 8000.0]\n",
            " [0.0 0.0 0.0 1.0 0.0 0.0 0.0 0.0 5000.0 20000.0]\n",
            " [0.0 1.0 0.0 0.0 0.0 0.0 0.0 0.0 8000.0 16000.0]\n",
            " [0.0 0.0 0.0 1.0 0.0 0.0 0.0 0.0 10000.0 10000.0]\n",
            " [0.0 0.0 0.0 0.0 0.0 0.0 1.0 0.0 16000.0 16000.0]\n",
            " [0.0 0.0 1.0 0.0 0.0 0.0 0.0 0.0 15000.0 15000.0]\n",
            " [0.0 1.0 0.0 0.0 0.0 0.0 0.0 0.0 11000.0 11000.0]]\n"
          ]
        }
      ]
    },
    {
      "cell_type": "code",
      "source": [
        "print(y_train)"
      ],
      "metadata": {
        "colab": {
          "base_uri": "https://localhost:8080/"
        },
        "id": "TBDzwFArJyyH",
        "outputId": "d6389798-fd86-40e5-8c03-1e61d684a083"
      },
      "execution_count": 169,
      "outputs": [
        {
          "output_type": "stream",
          "name": "stdout",
          "text": [
            "[0 0 0 0 0 0 0 0 0 0 0 0 0 0 0 0 1 0 0 0 0 0 0 0 1 0 0 0 1 0 0 0 0 0 0 0 0\n",
            " 0 0 0 0 0 0 0 0 0 0 0 0 0 0 0 0 0 0 0 0 0 0 0 0 0 0 0 0 0 0 0 0 0 0 0 0 0\n",
            " 0 0 0 0 0 0 0 0 0 0 0 0 0 0 0 0 0 0 0 0 1 0 0 0 0 0 0 0 0 0 0 0 0 0 0 0 0\n",
            " 0 0 0 0 0 0 0 0 0 0 0 0 0 0 0 0 0 0 0 0 0 0 0 0 0 0 0 0 0 0 0 0 0 0 0 0 0\n",
            " 0 0 0 0 0 0 0 0 0 0 0]\n"
          ]
        }
      ]
    },
    {
      "cell_type": "code",
      "source": [
        "print(y_test)"
      ],
      "metadata": {
        "colab": {
          "base_uri": "https://localhost:8080/"
        },
        "id": "ENYbEjn4J48S",
        "outputId": "ef7656f1-5f79-41d9-c8ad-e5a6d0195742"
      },
      "execution_count": 170,
      "outputs": [
        {
          "output_type": "stream",
          "name": "stdout",
          "text": [
            "[0 0 0 0 0 0 0 0 0 0 0 0 0 0 0 0 0 0 0 0 0 0 0 0 0 0 0 0 0 0 0 0 0 0 0 0 0\n",
            " 0 0 0]\n"
          ]
        }
      ]
    },
    {
      "cell_type": "code",
      "source": [
        "from sklearn.preprocessing import StandardScaler\n",
        "sc = StandardScaler()\n",
        "x_train[:, 8:] = sc.fit_transform(x_train[:, 8:])\n",
        "x_test[:, 8:] = sc.transform(x_test[:, 8:])"
      ],
      "metadata": {
        "id": "tiydxOptKMb7"
      },
      "execution_count": 171,
      "outputs": []
    },
    {
      "cell_type": "code",
      "source": [
        "print(x_train)"
      ],
      "metadata": {
        "colab": {
          "base_uri": "https://localhost:8080/"
        },
        "id": "qPYgmzGxK9RC",
        "outputId": "888e9b5d-cb8c-4f51-e385-84b1d04965f6"
      },
      "execution_count": 172,
      "outputs": [
        {
          "output_type": "stream",
          "name": "stdout",
          "text": [
            "[[0.0 0.0 0.0 ... 0.0 0.20316397694534472 -0.16570545089361868]\n",
            " [0.0 0.0 0.0 ... 0.0 -0.03700756457368731 -0.3208295415300554]\n",
            " [0.0 1.0 0.0 ... 0.0 -0.03700756457368731 -0.3208295415300554]\n",
            " ...\n",
            " [0.0 0.0 0.0 ... 0.0 1.1638501430214727 0.45479091165212815]\n",
            " [0.0 1.0 0.0 ... 0.0 -0.03700756457368731 -0.3208295415300554]\n",
            " [0.0 1.0 0.0 ... 0.0 -0.7575221891307834 -0.00521802733624144]]\n"
          ]
        }
      ]
    },
    {
      "cell_type": "code",
      "source": [
        "print(x_test)"
      ],
      "metadata": {
        "colab": {
          "base_uri": "https://localhost:8080/"
        },
        "id": "oem9o6LTL4Us",
        "outputId": "738f27d5-5409-4de5-9839-4991731834a3"
      },
      "execution_count": 173,
      "outputs": [
        {
          "output_type": "stream",
          "name": "stdout",
          "text": [
            "[[0.0 0.0 0.0 1.0 0.0 0.0 0.0 0.0 -1.4780368136878794\n",
            "  -0.47595363216649206]\n",
            " [0.0 1.0 0.0 0.0 0.0 0.0 0.0 0.0 -0.7575221891307834 -0.7862018134393655]\n",
            " [0.0 0.0 0.0 0.0 0.0 0.0 1.0 0.0 -2.1985514382449756 -1.4066981759851123]\n",
            " [0.0 1.0 0.0 0.0 0.0 0.0 0.0 0.0 -0.03700756457368731 4.798265449472356]\n",
            " [0.0 0.0 1.0 0.0 0.0 0.0 0.0 0.0 0.20316397694534472 1.6957836367436216]\n",
            " [0.0 0.0 0.0 0.0 0.0 0.0 0.0 1.0 0.20316397694534472\n",
            "  -0.16570545089361868]\n",
            " [0.0 1.0 0.0 0.0 0.0 0.0 0.0 0.0 -0.03700756457368731 4.798265449472356]\n",
            " [0.0 1.0 0.0 0.0 0.0 0.0 0.0 0.0 -0.7575221891307834 -0.7862018134393655]\n",
            " [0.0 1.0 0.0 0.0 0.0 0.0 0.0 0.0 -0.7575221891307834 -0.7862018134393655]\n",
            " [1.0 0.0 0.0 0.0 0.0 0.0 0.0 0.0 -1.4780368136878794 -1.2515740853486756]\n",
            " [0.0 0.0 0.0 1.0 0.0 0.0 0.0 0.0 -1.4780368136878794\n",
            "  -0.47595363216649206]\n",
            " [0.0 1.0 0.0 0.0 0.0 0.0 0.0 0.0 -0.03700756457368731\n",
            "  -0.3208295415300554]\n",
            " [1.0 0.0 0.0 0.0 0.0 0.0 0.0 0.0 -1.4780368136878794 -1.2515740853486756]\n",
            " [0.0 1.0 0.0 0.0 0.0 0.0 0.0 0.0 -0.03700756457368731\n",
            "  -0.3208295415300554]\n",
            " [0.0 0.0 1.0 0.0 0.0 0.0 0.0 0.0 1.1638501430214727 0.45479091165212815]\n",
            " [0.0 0.0 0.0 0.0 0.0 0.0 1.0 0.0 -2.1985514382449756 -1.7169463572579857]\n",
            " [0.0 0.0 0.0 1.0 0.0 0.0 0.0 0.0 -1.4780368136878794 -1.2515740853486756]\n",
            " [0.0 0.0 0.0 1.0 0.0 0.0 0.0 0.0 -1.4780368136878794 -1.2515740853486756]\n",
            " [0.0 0.0 0.0 1.0 0.0 0.0 0.0 0.0 0.20316397694534472\n",
            "  -0.16570545089361868]\n",
            " [0.0 0.0 0.0 0.0 0.0 0.0 0.0 1.0 0.9236786015024407 0.2996668210156914]\n",
            " [0.0 0.0 0.0 0.0 0.0 0.0 1.0 0.0 0.9236786015024407 0.2996668210156914]\n",
            " [1.0 0.0 0.0 0.0 0.0 0.0 0.0 0.0 -1.4780368136878794 -1.2515740853486756]\n",
            " [0.0 0.0 1.0 0.0 0.0 0.0 0.0 0.0 0.20316397694534472\n",
            "  -0.16570545089361868]\n",
            " [0.0 0.0 0.0 0.0 0.0 0.0 1.0 0.0 0.9236786015024407 0.2996668210156914]\n",
            " [0.0 0.0 0.0 0.0 0.0 0.0 1.0 0.0 0.9236786015024407 0.2996668210156914]\n",
            " [0.0 0.0 0.0 0.0 0.0 0.0 0.0 1.0 0.9236786015024407 0.2996668210156914]\n",
            " [0.0 0.0 0.0 1.0 0.0 0.0 0.0 0.0 0.20316397694534472\n",
            "  -0.16570545089361868]\n",
            " [0.0 1.0 0.0 0.0 0.0 0.0 0.0 0.0 -0.03700756457368731 1.3855354554707484]\n",
            " [0.0 0.0 0.0 0.0 0.0 0.0 1.0 0.0 1.1638501430214727 0.45479091165212815]\n",
            " [0.0 0.0 0.0 0.0 0.0 0.0 1.0 0.0 -2.1985514382449756 -1.7169463572579857]\n",
            " [0.0 1.0 0.0 0.0 0.0 0.0 0.0 0.0 -0.03700756457368731\n",
            "  -0.00521802733624144]\n",
            " [0.0 1.0 0.0 0.0 0.0 0.0 0.0 0.0 -0.03700756457368731\n",
            "  -0.3208295415300554]\n",
            " [0.0 1.0 0.0 0.0 0.0 0.0 0.0 0.0 -0.7575221891307834 -0.7862018134393655]\n",
            " [0.0 1.0 0.0 0.0 0.0 0.0 0.0 0.0 -0.7575221891307834 -0.7862018134393655]\n",
            " [0.0 0.0 0.0 1.0 0.0 0.0 0.0 0.0 -1.4780368136878794 1.075287274197875]\n",
            " [0.0 1.0 0.0 0.0 0.0 0.0 0.0 0.0 -0.7575221891307834 0.45479091165212815]\n",
            " [0.0 0.0 0.0 1.0 0.0 0.0 0.0 0.0 -0.27717910609271934\n",
            "  -0.47595363216649206]\n",
            " [0.0 0.0 0.0 0.0 0.0 0.0 1.0 0.0 1.1638501430214727 0.45479091165212815]\n",
            " [0.0 0.0 1.0 0.0 0.0 0.0 0.0 0.0 0.9236786015024407 0.2996668210156914]\n",
            " [0.0 1.0 0.0 0.0 0.0 0.0 0.0 0.0 -0.03700756457368731\n",
            "  -0.3208295415300554]]\n"
          ]
        }
      ]
    }
  ]
}